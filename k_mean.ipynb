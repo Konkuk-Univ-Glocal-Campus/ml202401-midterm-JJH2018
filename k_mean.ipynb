{
 "cells": [
  {
   "cell_type": "markdown",
   "metadata": {},
   "source": [
    "# 0. 문제 설명\n",
    "효율적인 SNS 광고 타겟을 잡기 위해 광고타겟의 나이라는 피쳐를 통하여 어떤 나이가 주로 SNS를 많이 이용하는지 궁금하여 분석을 진행하게 됨\n",
    "\n",
    "따라서 공공데이터포털에서 한국미디어패널조사의 rawdata를 다운받아 분석을 진행\n",
    "\n",
    "feature는 이용시간과 나이를 대상으로 할 에정\n",
    "\n",
    "해당 데이터는 코드북을 확인하여야 컬럼의 이름이 무슨 데이터인지 알 수 있기 때문에 코드북을 따로 확인하며 진행\n",
    "\n",
    "해당 파일은 서술하며 설명"
   ]
  },
  {
   "cell_type": "markdown",
   "metadata": {},
   "source": [
    "# 1. 기본 실행파일\n"
   ]
  },
  {
   "cell_type": "code",
   "execution_count": 2,
   "metadata": {},
   "outputs": [
    {
     "name": "stdout",
     "output_type": "stream",
     "text": [
      "Requirement already satisfied: seaborn in /home/codespace/.local/lib/python3.10/site-packages (0.13.2)\n",
      "Requirement already satisfied: numpy!=1.24.0,>=1.20 in /home/codespace/.local/lib/python3.10/site-packages (from seaborn) (1.26.4)\n",
      "Requirement already satisfied: pandas>=1.2 in /home/codespace/.local/lib/python3.10/site-packages (from seaborn) (2.2.1)\n",
      "Requirement already satisfied: matplotlib!=3.6.1,>=3.4 in /home/codespace/.local/lib/python3.10/site-packages (from seaborn) (3.8.3)\n",
      "Requirement already satisfied: contourpy>=1.0.1 in /home/codespace/.local/lib/python3.10/site-packages (from matplotlib!=3.6.1,>=3.4->seaborn) (1.2.1)\n",
      "Requirement already satisfied: cycler>=0.10 in /home/codespace/.local/lib/python3.10/site-packages (from matplotlib!=3.6.1,>=3.4->seaborn) (0.12.1)\n",
      "Requirement already satisfied: fonttools>=4.22.0 in /home/codespace/.local/lib/python3.10/site-packages (from matplotlib!=3.6.1,>=3.4->seaborn) (4.50.0)\n",
      "Requirement already satisfied: kiwisolver>=1.3.1 in /home/codespace/.local/lib/python3.10/site-packages (from matplotlib!=3.6.1,>=3.4->seaborn) (1.4.5)\n",
      "Requirement already satisfied: packaging>=20.0 in /home/codespace/.local/lib/python3.10/site-packages (from matplotlib!=3.6.1,>=3.4->seaborn) (24.0)\n",
      "Requirement already satisfied: pillow>=8 in /home/codespace/.local/lib/python3.10/site-packages (from matplotlib!=3.6.1,>=3.4->seaborn) (10.3.0)\n",
      "Requirement already satisfied: pyparsing>=2.3.1 in /home/codespace/.local/lib/python3.10/site-packages (from matplotlib!=3.6.1,>=3.4->seaborn) (3.1.2)\n",
      "Requirement already satisfied: python-dateutil>=2.7 in /home/codespace/.local/lib/python3.10/site-packages (from matplotlib!=3.6.1,>=3.4->seaborn) (2.9.0.post0)\n",
      "Requirement already satisfied: pytz>=2020.1 in /home/codespace/.local/lib/python3.10/site-packages (from pandas>=1.2->seaborn) (2024.1)\n",
      "Requirement already satisfied: tzdata>=2022.7 in /home/codespace/.local/lib/python3.10/site-packages (from pandas>=1.2->seaborn) (2024.1)\n",
      "Requirement already satisfied: six>=1.5 in /home/codespace/.local/lib/python3.10/site-packages (from python-dateutil>=2.7->matplotlib!=3.6.1,>=3.4->seaborn) (1.16.0)\n",
      "Note: you may need to restart the kernel to use updated packages.\n"
     ]
    }
   ],
   "source": [
    "%pip install seaborn"
   ]
  },
  {
   "cell_type": "code",
   "execution_count": 3,
   "metadata": {},
   "outputs": [],
   "source": [
    "import os\n",
    "import numpy as np\n",
    "import pandas as pd\n",
    "import matplotlib.pyplot as plt\n",
    "import seaborn as sns\n",
    "import sklearn\n",
    "from sklearn.cluster import KMeans\n",
    "from sklearn.preprocessing import LabelEncoder, StandardScaler\n",
    "from sklearn import metrics"
   ]
  },
  {
   "cell_type": "code",
   "execution_count": 4,
   "metadata": {},
   "outputs": [
    {
     "name": "stderr",
     "output_type": "stream",
     "text": [
      "/tmp/ipykernel_5003/3574233097.py:1: DtypeWarning: Columns (5,508) have mixed types. Specify dtype option on import or set low_memory=False.\n",
      "  df = pd.read_csv(\"./p23v30_KMP_csv.csv\", encoding='cp949')\n"
     ]
    },
    {
     "data": {
      "text/html": [
       "<div>\n",
       "<style scoped>\n",
       "    .dataframe tbody tr th:only-of-type {\n",
       "        vertical-align: middle;\n",
       "    }\n",
       "\n",
       "    .dataframe tbody tr th {\n",
       "        vertical-align: top;\n",
       "    }\n",
       "\n",
       "    .dataframe thead th {\n",
       "        text-align: right;\n",
       "    }\n",
       "</style>\n",
       "<table border=\"1\" class=\"dataframe\">\n",
       "  <thead>\n",
       "    <tr style=\"text-align: right;\">\n",
       "      <th></th>\n",
       "      <th>pid</th>\n",
       "      <th>hid</th>\n",
       "      <th>housenum</th>\n",
       "      <th>p23wt</th>\n",
       "      <th>p23wt2</th>\n",
       "      <th>p23wt_org</th>\n",
       "      <th>p23wt_org2</th>\n",
       "      <th>KMPS10</th>\n",
       "      <th>KMPS11</th>\n",
       "      <th>KMPS19</th>\n",
       "      <th>...</th>\n",
       "      <th>p23k06001</th>\n",
       "      <th>p23k06002</th>\n",
       "      <th>p23k06003</th>\n",
       "      <th>p23k06004</th>\n",
       "      <th>p23k06005</th>\n",
       "      <th>p23k03001</th>\n",
       "      <th>p23k03002</th>\n",
       "      <th>p23k03003</th>\n",
       "      <th>p23k07001</th>\n",
       "      <th>p23k07002</th>\n",
       "    </tr>\n",
       "  </thead>\n",
       "  <tbody>\n",
       "    <tr>\n",
       "      <th>0</th>\n",
       "      <td>10001</td>\n",
       "      <td>100</td>\n",
       "      <td>1</td>\n",
       "      <td>0.079204</td>\n",
       "      <td>.134900429500422</td>\n",
       "      <td>0.229259</td>\n",
       "      <td>2.0867587611946</td>\n",
       "      <td></td>\n",
       "      <td>1</td>\n",
       "      <td></td>\n",
       "      <td>...</td>\n",
       "      <td>3</td>\n",
       "      <td>2</td>\n",
       "      <td></td>\n",
       "      <td></td>\n",
       "      <td></td>\n",
       "      <td>1</td>\n",
       "      <td>2</td>\n",
       "      <td>8</td>\n",
       "      <td>4</td>\n",
       "      <td>4</td>\n",
       "    </tr>\n",
       "    <tr>\n",
       "      <th>1</th>\n",
       "      <td>10002</td>\n",
       "      <td>100</td>\n",
       "      <td>2</td>\n",
       "      <td>0.077611</td>\n",
       "      <td>.1198459955419</td>\n",
       "      <td>0.225981</td>\n",
       "      <td>1.41678521930361</td>\n",
       "      <td></td>\n",
       "      <td>1</td>\n",
       "      <td></td>\n",
       "      <td>...</td>\n",
       "      <td>3</td>\n",
       "      <td>2</td>\n",
       "      <td></td>\n",
       "      <td></td>\n",
       "      <td></td>\n",
       "      <td>12</td>\n",
       "      <td>8</td>\n",
       "      <td>1</td>\n",
       "      <td>4</td>\n",
       "      <td>4</td>\n",
       "    </tr>\n",
       "    <tr>\n",
       "      <th>2</th>\n",
       "      <td>10003</td>\n",
       "      <td>100</td>\n",
       "      <td>3</td>\n",
       "      <td>0.105292</td>\n",
       "      <td></td>\n",
       "      <td>0.349857</td>\n",
       "      <td></td>\n",
       "      <td></td>\n",
       "      <td>1</td>\n",
       "      <td></td>\n",
       "      <td>...</td>\n",
       "      <td>3</td>\n",
       "      <td>1</td>\n",
       "      <td>3</td>\n",
       "      <td></td>\n",
       "      <td>2</td>\n",
       "      <td>13</td>\n",
       "      <td>1</td>\n",
       "      <td>3</td>\n",
       "      <td>4</td>\n",
       "      <td>3</td>\n",
       "    </tr>\n",
       "    <tr>\n",
       "      <th>3</th>\n",
       "      <td>10004</td>\n",
       "      <td>100</td>\n",
       "      <td>4</td>\n",
       "      <td>0.100181</td>\n",
       "      <td></td>\n",
       "      <td>0.319221</td>\n",
       "      <td></td>\n",
       "      <td></td>\n",
       "      <td>1</td>\n",
       "      <td></td>\n",
       "      <td>...</td>\n",
       "      <td>3</td>\n",
       "      <td>2</td>\n",
       "      <td></td>\n",
       "      <td></td>\n",
       "      <td></td>\n",
       "      <td>3</td>\n",
       "      <td>6</td>\n",
       "      <td>10</td>\n",
       "      <td>3</td>\n",
       "      <td>3</td>\n",
       "    </tr>\n",
       "    <tr>\n",
       "      <th>4</th>\n",
       "      <td>20001</td>\n",
       "      <td>200</td>\n",
       "      <td>1</td>\n",
       "      <td>1.768926</td>\n",
       "      <td>2.24682939382758</td>\n",
       "      <td>1.971497</td>\n",
       "      <td></td>\n",
       "      <td></td>\n",
       "      <td>1</td>\n",
       "      <td></td>\n",
       "      <td>...</td>\n",
       "      <td>3</td>\n",
       "      <td>2</td>\n",
       "      <td></td>\n",
       "      <td></td>\n",
       "      <td></td>\n",
       "      <td>2</td>\n",
       "      <td>12</td>\n",
       "      <td>13</td>\n",
       "      <td>4</td>\n",
       "      <td>3</td>\n",
       "    </tr>\n",
       "  </tbody>\n",
       "</table>\n",
       "<p>5 rows × 512 columns</p>\n",
       "</div>"
      ],
      "text/plain": [
       "     pid  hid  housenum     p23wt            p23wt2 p23wt_org  \\\n",
       "0  10001  100         1  0.079204  .134900429500422  0.229259   \n",
       "1  10002  100         2  0.077611    .1198459955419  0.225981   \n",
       "2  10003  100         3  0.105292                    0.349857   \n",
       "3  10004  100         4  0.100181                    0.319221   \n",
       "4  20001  200         1  1.768926  2.24682939382758  1.971497   \n",
       "\n",
       "         p23wt_org2 KMPS10 KMPS11 KMPS19  ...  p23k06001  p23k06002  \\\n",
       "0   2.0867587611946             1         ...          3          2   \n",
       "1  1.41678521930361             1         ...          3          2   \n",
       "2                               1         ...          3          1   \n",
       "3                               1         ...          3          2   \n",
       "4                               1         ...          3          2   \n",
       "\n",
       "   p23k06003  p23k06004  p23k06005  p23k03001  p23k03002  p23k03003  \\\n",
       "0                                           1          2          8   \n",
       "1                                          12          8          1   \n",
       "2          3                     2         13          1          3   \n",
       "3                                           3          6         10   \n",
       "4                                           2         12         13   \n",
       "\n",
       "   p23k07001  p23k07002  \n",
       "0          4          4  \n",
       "1          4          4  \n",
       "2          4          3  \n",
       "3          3          3  \n",
       "4          4          3  \n",
       "\n",
       "[5 rows x 512 columns]"
      ]
     },
     "execution_count": 4,
     "metadata": {},
     "output_type": "execute_result"
    }
   ],
   "source": [
    "df = pd.read_csv(\"./p23v30_KMP_csv.csv\", encoding='cp949') \n",
    "# UTF-8이 아니고 cp949 인코딩\n",
    "df.head()"
   ]
  },
  {
   "cell_type": "markdown",
   "metadata": {},
   "source": [
    "# 2. 데이터 전처리\n",
    "\n",
    "보면 feature가 상당히 많다. 먼저 대상으로 하는 나이 데이터와 시간 데이터를 확인\n",
    "\n",
    "여기서 나이 데이터는 p23age1\n",
    "\n",
    "나이대 데이터는 p23age\n",
    "\n",
    "나이대의 분류는\n",
    "\n",
    "1: 만 10세 미만\n",
    "\n",
    "2: 만 10-19세\n",
    "\n",
    "3: 만 20-29세\n",
    "\n",
    "4: 만 30-39세\n",
    "\n",
    "5: 만 40-49세\n",
    "\n",
    "6: 만 50-59세\n",
    "\n",
    "7: 만 60-69세\n",
    "\n",
    "8: 만 70세 이상\n",
    "\n",
    "시간 데이터는 단위가 분으로 되어 있으며\n",
    "\n",
    "주중 평균 이용시간 p23d11010\n",
    "\n",
    "주말 평균 이용시간 p23d11014\n",
    "             \n",
    "총 3종류 컬럼이 존재"
   ]
  },
  {
   "cell_type": "code",
   "execution_count": 5,
   "metadata": {},
   "outputs": [
    {
     "name": "stdout",
     "output_type": "stream",
     "text": [
      "object object object int64\n"
     ]
    }
   ],
   "source": [
    "print(df['p23d11010'].dtype,df['p23d11014'].dtype,df['p23age1'].dtype,df['p23age'].dtype)"
   ]
  },
  {
   "cell_type": "code",
   "execution_count": 6,
   "metadata": {},
   "outputs": [
    {
     "name": "stderr",
     "output_type": "stream",
     "text": [
      "/tmp/ipykernel_5003/2239502647.py:2: FutureWarning: Downcasting behavior in `replace` is deprecated and will be removed in a future version. To retain the old behavior, explicitly call `result.infer_objects(copy=False)`. To opt-in to the future behavior, set `pd.set_option('future.no_silent_downcasting', True)`\n",
      "  df.replace(r'^\\s*$', np.nan, regex=True, inplace=True) #먼저 데이터 파일에 있는 공백을 결측치로 바꾸는 작업\n"
     ]
    }
   ],
   "source": [
    "# 현재 데이터 타입이 3개가 object인 것을 확인\n",
    "df.replace(r'^\\s*$', np.nan, regex=True, inplace=True) #먼저 데이터 파일에 있는 공백을 결측치로 바꾸는 작업\n",
    "# 문자열을 숫자로 변환하고, 변환이 불가능한 경우 NaN으로 대체\n",
    "df['p23d11010'] = pd.to_numeric(df['p23d11010'], errors='coerce')# 오류를 NaN으로 설정\n",
    "df['p23d11014'] = pd.to_numeric(df['p23d11014'], errors='coerce')\n",
    "df['p23age1'] = pd.to_numeric(df['p23age1'], errors='coerce')"
   ]
  },
  {
   "cell_type": "code",
   "execution_count": 7,
   "metadata": {},
   "outputs": [
    {
     "name": "stdout",
     "output_type": "stream",
     "text": [
      "pid    9757\n",
      "dtype: int64\n",
      "---------------------------------\n",
      "p23age1    9411\n",
      "dtype: int64\n",
      "---------------------------------\n",
      "결측치의 갯수는 346 입니다. 0으로 입력된 칸은 0개 입니다\n",
      "---------------------------------\n"
     ]
    },
    {
     "name": "stderr",
     "output_type": "stream",
     "text": [
      "/tmp/ipykernel_5003/2667263055.py:7: FutureWarning: Series.__getitem__ treating keys as positions is deprecated. In a future version, integer keys will always be treated as labels (consistent with DataFrame behavior). To access a value by position, use `ser.iloc[pos]`\n",
      "  missing_count_age = df[['p23age1']].isnull().sum()[0]\n"
     ]
    }
   ],
   "source": [
    "#나이 데이터 확인\n",
    "print(df[['pid']].count()) #전체 데이터 갯수 확인하기\n",
    "print('---------------------------------')\n",
    "print(df[['p23age1']].count())\n",
    "# 나이 컬럼에 있는 데이터의 수 확인\n",
    "print('---------------------------------')\n",
    "missing_count_age = df[['p23age1']].isnull().sum()[0]\n",
    "zero_count_age= (df['p23age1'] == 0).sum()\n",
    "print('결측치의 갯수는 %d 입니다. 0으로 입력된 칸은 %d개 입니다' % (missing_count_age, zero_count_age))\n",
    "# 결측치의 갯수를 합한 수치\n",
    "print('---------------------------------')"
   ]
  },
  {
   "cell_type": "code",
   "execution_count": 8,
   "metadata": {},
   "outputs": [
    {
     "name": "stdout",
     "output_type": "stream",
     "text": [
      "p23d11010    5343\n",
      "dtype: int64\n",
      "---------------------------------\n",
      "p23d11014    5343\n",
      "dtype: int64\n",
      "주중 평균 이용시간 데이터의 결측치 갯수는 4414 입니다. 0으로 입력된 칸은 28개 입니다\n",
      "주말 평균 이용시간 데이터의 결측치 갯수는 4414 입니다. 0으로 입력된 칸은 4414개 입니다\n"
     ]
    },
    {
     "name": "stderr",
     "output_type": "stream",
     "text": [
      "/tmp/ipykernel_5003/3427550039.py:10: FutureWarning: Calling int on a single element Series is deprecated and will raise a TypeError in the future. Use int(ser.iloc[0]) instead\n",
      "  print('주중 평균 이용시간 데이터의 결측치 갯수는 %d 입니다. 0으로 입력된 칸은 %d개 입니다' % (missing_count_weekday, zero_count_weekday))\n",
      "/tmp/ipykernel_5003/3427550039.py:13: FutureWarning: Calling int on a single element Series is deprecated and will raise a TypeError in the future. Use int(ser.iloc[0]) instead\n",
      "  print('주말 평균 이용시간 데이터의 결측치 갯수는 %d 입니다. 0으로 입력된 칸은 %d개 입니다' % (missing_count_weekend, zero_count_weekend))\n"
     ]
    }
   ],
   "source": [
    "#시간 데이터 확인\n",
    "# 주중 평균 이용시간에 있는 데이터의 수 확인\n",
    "print(df[['p23d11010']].count())\n",
    "print('---------------------------------')\n",
    "# 주말 평균 이용시간에 있는 데이터의 수 확인\n",
    "print(df[['p23d11014']].count())\n",
    "# 결측치의 갯수를 합한 수치\n",
    "missing_count_weekday = df[['p23d11010']].isnull().sum()\n",
    "zero_count_weekday= (df['p23d11010'] == 0).sum()\n",
    "print('주중 평균 이용시간 데이터의 결측치 갯수는 %d 입니다. 0으로 입력된 칸은 %d개 입니다' % (missing_count_weekday, zero_count_weekday))\n",
    "missing_count_weekend=df[['p23d11014']].isnull().sum()\n",
    "zero_count_weekend=df[['p23d11014']].isnull().sum()\n",
    "print('주말 평균 이용시간 데이터의 결측치 갯수는 %d 입니다. 0으로 입력된 칸은 %d개 입니다' % (missing_count_weekend, zero_count_weekend))"
   ]
  },
  {
   "cell_type": "markdown",
   "metadata": {},
   "source": [
    "해당 데이터를 확인해보면 결측치가 4414개로 측정되며 왜 이런 많은 결측치가 나오는지 확인해보자\n",
    "\n",
    "SNS 이용자와 이용하지 않은 대상이 있기에 발생한 결과라는 점을 발견\n",
    "\n",
    "따라서 SNS 이용여부를 확인하는 열까지 추가로 조사\n",
    "\n",
    "SNS 이용 여부 컬럼은 p23d11001 이고 이용여부 긍정과 부정을 각각 1과 2로 표현"
   ]
  },
  {
   "cell_type": "code",
   "execution_count": 9,
   "metadata": {},
   "outputs": [
    {
     "name": "stdout",
     "output_type": "stream",
     "text": [
      "p23d11001    9757\n",
      "dtype: int64\n",
      "SNS 사용자(1): 5343\n",
      "SNS 미사용자(2): 4414\n"
     ]
    }
   ],
   "source": [
    "print(df[['p23d11001']].count())\n",
    "count_sns_user=(df['p23d11001']==1).sum()\n",
    "count_non_sns_user=(df['p23d11001']==2).sum()\n",
    "print('SNS 사용자(1): %d' % count_sns_user)\n",
    "print('SNS 미사용자(2): %d'% count_non_sns_user)"
   ]
  },
  {
   "cell_type": "markdown",
   "metadata": {},
   "source": [
    "해당 결과에 따라 SNS 사용자 5343명을 대상으로 다시 나이를 분석해야하는 결과가 도출\n",
    "\n",
    "새로운 데이터프레임을 짜놓을지 아니면 필요없는 데이터를 삭제할지 고민하다가\n",
    "\n",
    "필자는 미사용자들 모두 drop 하는 과정을 실행"
   ]
  },
  {
   "cell_type": "code",
   "execution_count": 10,
   "metadata": {},
   "outputs": [
    {
     "name": "stdout",
     "output_type": "stream",
     "text": [
      "p23d11001    5343\n",
      "dtype: int64\n",
      "SNS 미사용자(2)가 제거된 후의 행 수: 5343\n"
     ]
    }
   ],
   "source": [
    "index_to_drop = df[df['p23d11001'] == 2].index # 드롭하여야 하는 데이터 찾아서 변수로 할당\n",
    "df.drop(index_to_drop, inplace=True) # 데이터 드롭\n",
    "print(df[['p23d11001']].count())\n",
    "print('SNS 미사용자(2)가 제거된 후의 행 수:', len(df))"
   ]
  },
  {
   "cell_type": "markdown",
   "metadata": {},
   "source": [
    "나이 데이터 재확인"
   ]
  },
  {
   "cell_type": "code",
   "execution_count": 11,
   "metadata": {},
   "outputs": [
    {
     "name": "stdout",
     "output_type": "stream",
     "text": [
      "pid    5343\n",
      "dtype: int64\n",
      "---------------------------------\n",
      "p23age1    5130\n",
      "dtype: int64\n",
      "---------------------------------\n",
      "결측치의 갯수는 213 입니다. 0으로 입력된 칸은 0개 입니다\n"
     ]
    },
    {
     "name": "stderr",
     "output_type": "stream",
     "text": [
      "/tmp/ipykernel_5003/1293989731.py:7: FutureWarning: Series.__getitem__ treating keys as positions is deprecated. In a future version, integer keys will always be treated as labels (consistent with DataFrame behavior). To access a value by position, use `ser.iloc[pos]`\n",
      "  missing_count_age = df[['p23age1']].isnull().sum()[0]\n"
     ]
    }
   ],
   "source": [
    "#나이 데이터 재확인\n",
    "print(df[['pid']].count()) #전체 데이터 갯수 확인하기\n",
    "print('---------------------------------')\n",
    "print(df[['p23age1']].count())\n",
    "# 나이 컬럼에 있는 데이터의 수 확인\n",
    "print('---------------------------------')\n",
    "missing_count_age = df[['p23age1']].isnull().sum()[0]\n",
    "zero_count_age= (df['p23age1'] == 0).sum()\n",
    "print('결측치의 갯수는 %d 입니다. 0으로 입력된 칸은 %d개 입니다' % (missing_count_age, zero_count_age))\n"
   ]
  },
  {
   "cell_type": "markdown",
   "metadata": {},
   "source": [
    "나이데이터의 결측치의 경우 나이대는 표시되어 있지만 정확한 나이가 기입되어 있지 않음.\n",
    "\n",
    "해당 나이대의 중앙값 혹은 평균 값으로 결측치를 채우는 방법 중 필자는 나이대의 평균값으로 결정.\n",
    "\n",
    "10대 미만의 경우에는 중앙값이 5인데 5세부터 스마트폰을 사용하는 경우는 적을 거라고 생각한 연구자 주관적 판단"
   ]
  },
  {
   "cell_type": "code",
   "execution_count": 12,
   "metadata": {},
   "outputs": [],
   "source": [
    "#==========================================================================\n",
    "\n",
    "# non_age_row=df[df['p23age1'].isnull()]# 결측치 데이터 프레임 생성\n",
    "# age_1_rows = df[df['p23age'] == 1]#나이대 변수가 1인 데이터를 모아놓은 데이터프레임 생성\n",
    "# average_age1 = age_1_rows['p23age1'].mean()#나이대 1의 평균값 생성\n",
    "# # fillna메서드를 이용하여 결측치 재우기\n",
    "# age_1_rows['p23age1'].fillna(average_age1, inplace=True)"
   ]
  },
  {
   "cell_type": "code",
   "execution_count": 13,
   "metadata": {},
   "outputs": [],
   "source": [
    "#1~8까지 적용\n",
    "for i in range(1, 9):\n",
    "    # 나이대가 i인 행들을 선택합니다.\n",
    "    age_rows = df[df['p23age'] == i]\n",
    "    # 해당 나이대의 평균을 계산합니다. 결측치를 제외하고 평균을 계산합니다.\n",
    "    mean_age = age_rows['p23age1'].mean(skipna=True)\n",
    "    # 원본 데이터프레임에서 나이대가 i인 행들의 결측치를 채웁니다.\n",
    "    df.loc[df['p23age'] == i, 'p23age1'] = age_rows['p23age1'].fillna(mean_age)"
   ]
  },
  {
   "cell_type": "code",
   "execution_count": 14,
   "metadata": {},
   "outputs": [
    {
     "name": "stdout",
     "output_type": "stream",
     "text": [
      "결측치의 갯수는 0 입니다. 0으로 입력된 칸은 0개 입니다\n"
     ]
    },
    {
     "name": "stderr",
     "output_type": "stream",
     "text": [
      "/tmp/ipykernel_5003/3355159690.py:2: FutureWarning: Series.__getitem__ treating keys as positions is deprecated. In a future version, integer keys will always be treated as labels (consistent with DataFrame behavior). To access a value by position, use `ser.iloc[pos]`\n",
      "  missing_count_age = df[['p23age1']].isnull().sum()[0]\n"
     ]
    }
   ],
   "source": [
    "# 결측치 갯수 재할당 및 결측치 갯수 확인\n",
    "missing_count_age = df[['p23age1']].isnull().sum()[0]\n",
    "zero_count_age= (df['p23age1'] == 0).sum()\n",
    "print('결측치의 갯수는 %d 입니다. 0으로 입력된 칸은 %d개 입니다' % (missing_count_age, zero_count_age))"
   ]
  },
  {
   "cell_type": "markdown",
   "metadata": {},
   "source": [
    "적용이 모두 된 것을 확인"
   ]
  },
  {
   "cell_type": "code",
   "execution_count": 15,
   "metadata": {},
   "outputs": [],
   "source": [
    "# non_age_row=df[df['p23age1'].isnull()]# 결측치 데이터 프레임 생성\n",
    "# print(non_age_row[['pid']])"
   ]
  },
  {
   "cell_type": "markdown",
   "metadata": {},
   "source": [
    "시간데이터 재확인"
   ]
  },
  {
   "cell_type": "code",
   "execution_count": 16,
   "metadata": {},
   "outputs": [
    {
     "name": "stdout",
     "output_type": "stream",
     "text": [
      "p23d11010    5343\n",
      "dtype: int64\n",
      "---------------------------------\n",
      "p23d11014    5343\n",
      "dtype: int64\n",
      "주중 평균 이용시간 데이터의 결측치 갯수는 0 입니다. 0으로 입력된 칸은 28개 입니다\n",
      "주말 평균 이용시간 데이터의 결측치 갯수는 0 입니다. 0으로 입력된 칸은 0개 입니다\n",
      "0       10.0\n",
      "1       10.0\n",
      "2       30.0\n",
      "3       30.0\n",
      "4       10.0\n",
      "        ... \n",
      "9745    60.0\n",
      "9747    60.0\n",
      "9750     5.0\n",
      "9751    10.0\n",
      "9752    60.0\n",
      "Name: p23d11014, Length: 5343, dtype: float64\n"
     ]
    },
    {
     "name": "stderr",
     "output_type": "stream",
     "text": [
      "/tmp/ipykernel_5003/3361861842.py:10: FutureWarning: Calling int on a single element Series is deprecated and will raise a TypeError in the future. Use int(ser.iloc[0]) instead\n",
      "  print('주중 평균 이용시간 데이터의 결측치 갯수는 %d 입니다. 0으로 입력된 칸은 %d개 입니다' % (missing_count_weekday, zero_count_weekday))\n",
      "/tmp/ipykernel_5003/3361861842.py:13: FutureWarning: Calling int on a single element Series is deprecated and will raise a TypeError in the future. Use int(ser.iloc[0]) instead\n",
      "  print('주말 평균 이용시간 데이터의 결측치 갯수는 %d 입니다. 0으로 입력된 칸은 %d개 입니다' % (missing_count_weekend, zero_count_weekend))\n"
     ]
    }
   ],
   "source": [
    "#시간 데이터 재확인\n",
    "# 주중 평균 이용시간에 있는 데이터의 수 확인\n",
    "print(df[['p23d11010']].count())\n",
    "print('---------------------------------')\n",
    "# 주말 평균 이용시간에 있는 데이터의 수 확인\n",
    "print(df[['p23d11014']].count())\n",
    "# 결측치의 갯수를 합한 수치\n",
    "missing_count_weekday = df[['p23d11010']].isnull().sum()\n",
    "zero_count_weekday= (df['p23d11010'] == 0).sum()\n",
    "print('주중 평균 이용시간 데이터의 결측치 갯수는 %d 입니다. 0으로 입력된 칸은 %d개 입니다' % (missing_count_weekday, zero_count_weekday))\n",
    "missing_count_weekend=df[['p23d11014']].isnull().sum()\n",
    "zero_count_weekend=df[['p23d11014']].isnull().sum()\n",
    "print('주말 평균 이용시간 데이터의 결측치 갯수는 %d 입니다. 0으로 입력된 칸은 %d개 입니다' % (missing_count_weekend, zero_count_weekend))\n",
    "\n",
    "print(df['p23d11014'])"
   ]
  },
  {
   "cell_type": "markdown",
   "metadata": {},
   "source": [
    "### 시간 데이터는 주말과 주중으로 나뉘어 있음\n",
    "\n",
    "따라서 필자는 주중 데이터에 5를 곱하고 주말 데이터에 2를 곱한 다음 모두 합산해서 한 주간 이용시간을 유추한 데이터프레임을 만드려고 함"
   ]
  },
  {
   "cell_type": "code",
   "execution_count": 17,
   "metadata": {},
   "outputs": [
    {
     "name": "stdout",
     "output_type": "stream",
     "text": [
      "      usetime\n",
      "0        70.0\n",
      "1        70.0\n",
      "2       210.0\n",
      "3       210.0\n",
      "4        95.0\n",
      "...       ...\n",
      "9745    270.0\n",
      "9747    420.0\n",
      "9750     10.0\n",
      "9751     70.0\n",
      "9752    420.0\n",
      "\n",
      "[5343 rows x 1 columns]\n"
     ]
    },
    {
     "name": "stderr",
     "output_type": "stream",
     "text": [
      "/tmp/ipykernel_5003/860680515.py:2: PerformanceWarning: DataFrame is highly fragmented.  This is usually the result of calling `frame.insert` many times, which has poor performance.  Consider joining all columns at once using pd.concat(axis=1) instead. To get a de-fragmented frame, use `newframe = frame.copy()`\n",
      "  df['usetime'] = df['p23d11010']*5 + df['p23d11014'] * 2\n"
     ]
    }
   ],
   "source": [
    "# 새로운 데이터프레임 생성\n",
    "df['usetime'] = df['p23d11010']*5 + df['p23d11014'] * 2\n",
    "print(df[['usetime']])"
   ]
  },
  {
   "cell_type": "markdown",
   "metadata": {},
   "source": [
    "# 3. 데이터 분석"
   ]
  },
  {
   "cell_type": "code",
   "execution_count": 18,
   "metadata": {},
   "outputs": [],
   "source": [
    "X = df.loc[:, ['usetime']]\n",
    "y = df['p23age1']"
   ]
  },
  {
   "cell_type": "code",
   "execution_count": 19,
   "metadata": {},
   "outputs": [
    {
     "data": {
      "text/plain": [
       "array([0, 0, 5, ..., 0, 0, 3], dtype=int32)"
      ]
     },
     "execution_count": 19,
     "metadata": {},
     "output_type": "execute_result"
    }
   ],
   "source": [
    "nclusters = 8 #나이대를 8구간 정도로 나누어서 1~8까지 분류 기존 수업 내용에서 elbow를 하지 않은 방식\n",
    "seed = 0\n",
    "\n",
    "km = KMeans(n_clusters=nclusters, random_state=seed)\n",
    "km.fit(X)\n",
    "\n",
    "\n",
    "y_cluster_kmeans = km.predict(X)\n",
    "y_cluster_kmeans\n"
   ]
  },
  {
   "cell_type": "code",
   "execution_count": 20,
   "metadata": {},
   "outputs": [
    {
     "data": {
      "text/plain": [
       "0.6369991386050352"
      ]
     },
     "execution_count": 20,
     "metadata": {},
     "output_type": "execute_result"
    }
   ],
   "source": [
    "# 클러스터링 실루엣 점수 평가\n",
    "score = metrics.silhouette_score(X, y_cluster_kmeans)\n",
    "score"
   ]
  },
  {
   "cell_type": "markdown",
   "metadata": {},
   "source": [
    "# 엘보우 방식과 WCSS를 사용한 방식"
   ]
  },
  {
   "cell_type": "code",
   "execution_count": 21,
   "metadata": {},
   "outputs": [],
   "source": [
    "wcss = []\n",
    "\n",
    "for i in range(1, 11):\n",
    "    kmeans = KMeans(n_clusters = i, init = 'k-means++', random_state = 42)\n",
    "    kmeans.fit(X)\n",
    "    wcss.append(kmeans.inertia_)"
   ]
  },
  {
   "cell_type": "code",
   "execution_count": 22,
   "metadata": {},
   "outputs": [
    {
     "data": {
      "image/png": "[encoded data removed]",
      "text/plain": [
       "<Figure size 1000x500 with 1 Axes>"
      ]
     },
     "metadata": {},
     "output_type": "display_data"
    }
   ],
   "source": [
    "plt.figure(figsize=(10,5))\n",
    "sns.lineplot(data=(range(1, 11), wcss), marker='o', color='red')\n",
    "plt.title('Elbow')\n",
    "plt.xlabel('Number of clusters')\n",
    "plt.ylabel('WCSS')\n",
    "plt.show()"
   ]
  },
  {
   "cell_type": "markdown",
   "metadata": {},
   "source": [
    "가장 WCSS 값의 변동 값이 적어지는 구간인 2가 가장 적절한 K값으로 나타나고 있음"
   ]
  },
  {
   "cell_type": "code",
   "execution_count": 27,
   "metadata": {},
   "outputs": [
    {
     "data": {
      "image/png": "[encoded data removed]",
      "text/plain": [
       "<Figure size 640x480 with 1 Axes>"
      ]
     },
     "metadata": {},
     "output_type": "display_data"
    }
   ],
   "source": [
    "kmeans = KMeans(n_clusters = 2)\n",
    "kmeans.fit(X)\n",
    "labels = kmeans.predict(X)\n",
    "plt.scatter(df['usetime'],df['p23age1'],c = labels)\n",
    "plt.xlabel('usetime')\n",
    "plt.ylabel('p23age1')\n",
    "plt.show()"
   ]
  },
  {
   "cell_type": "code",
   "execution_count": 28,
   "metadata": {},
   "outputs": [
    {
     "name": "stdout",
     "output_type": "stream",
     "text": [
      "클러스터 중심점:\n",
      " [[  40.53487419  212.92799024]\n",
      " [  29.71850583 1115.32786885]]\n"
     ]
    }
   ],
   "source": [
    "# KMeans 클러스터링 모델을 초기화하고 학습\n",
    "kmeans = KMeans(n_clusters=2, random_state=42)\n",
    "kmeans.fit(df[['p23age1', 'usetime']])\n",
    "# 클러스터의 중심점을 출력\n",
    "centers = kmeans.cluster_centers_\n",
    "print(\"클러스터 중심점:\\n\", centers)\n",
    "# 각 중심점에 대한 데이터프레임을 생성\n",
    "# centers_df = pd.DataFrame(centers, columns=['p23age1', 'usetime'])\n",
    "# print(centers_df)"
   ]
  },
  {
   "attachments": {
    "image.png": {
     "image/png": "[encoded data removed]"
    }
   },
   "cell_type": "markdown",
   "metadata": {},
   "source": [
    "![image.png](attachment:image.png)"
   ]
  },
  {
   "cell_type": "markdown",
   "metadata": {},
   "source": [
    "위에 그래프를 확인하면 빗변이 오른쪽으로 내려가는 직각삼각형의 모양을 띄고 있다.\n",
    "\n",
    "보라색은 [0], 노란색은 [1]이라는 중심점을 갖는다.\n",
    "\n",
    "산점도 그래프에 따르면 밀집이 가장 높은 곳은 보라색 구간이며 노란색의 경우 밀짚도가 낮고 이용시간이 대부분 높은 것을 확인가능하다\n",
    "\n",
    "중심점을 대상으로 비교를 하면 0이 가장 나이가 많으며 이용시간도 짧은 것을 확인가능하다.\n",
    "\n",
    "1번 같은 경우에는 나이가 가장 젊고 이용시간이 매우 높다.\n",
    "\n",
    "또한 밀짚도가 주로 10~30사이의 나이에서 가장 높은 결과를 보여주고 있다\n",
    "\n",
    "그래프에 대해 정리하자면 SNS 이용시간이 가장 긴 이용자는 주로 10~30 대의 사람들이며 나이가 많아질수록 SNS 이용시간 자체는 짧아지는 경향을 보이고 있다. 하지만 대부분의 SNS 이용자들이 밀짚되어 있는 구간이 일주일 기준 16~17시간(1000분) 이하인 것을 확인해보면 불특정 다수를 타겟으로 하는 SNS 광고는 타겟팅의 난점이 없다는 분석 또한 나온다.\n",
    "\n",
    "따라서 SNS 이용시간에 따른 클러스터링에 의하면 SNS 광고의 타깃은 10~30대가 가장 적절하며 나이가 많아 질수록 SNS의 이용시간은 짧아지기 때문에 효율성은 떨어진다고 예측된다. 하지만 밀집도를 확인해보면 시간이 길어질수록 밀집도가 떨어진다는 점이 확인되기에 10~30대를 타깃으로 하는 SNS 광고의 효용성이 극적으로 높지 않을 수 있음 또한 명심해야 한다."
   ]
  },
  {
   "cell_type": "code",
   "execution_count": 26,
   "metadata": {},
   "outputs": [
    {
     "data": {
      "text/plain": [
       "0.7677180374778584"
      ]
     },
     "execution_count": 26,
     "metadata": {},
     "output_type": "execute_result"
    }
   ],
   "source": [
    "nclusters = 2 # 이번에는 엘보우 방식으로 결정한 2를 입력\n",
    "seed = 0\n",
    "\n",
    "km = KMeans(n_clusters=nclusters, random_state=seed)\n",
    "km.fit(X)\n",
    "\n",
    "\n",
    "y_cluster_kmeans = km.predict(X)\n",
    "y_cluster_kmeans\n",
    "score = metrics.silhouette_score(X, y_cluster_kmeans)\n",
    "score"
   ]
  },
  {
   "cell_type": "markdown",
   "metadata": {},
   "source": [
    "실루엣 스코어의 ncluster를 엘보우 방식으로 측정 후 변환한 후 결과\n",
    "\n",
    "0.13 정도 정확도가 더 상승한 결과를 보이고 있다\n",
    "\n",
    "기존 8에서 2로 낮추었을 때 클러스터간 분리가 더 잘되었다."
   ]
  }
 ],
 "metadata": {
  "kernelspec": {
   "display_name": "Python 3",
   "language": "python",
   "name": "python3"
  },
  "language_info": {
   "codemirror_mode": {
    "name": "ipython",
    "version": 3
   },
   "file_extension": ".py",
   "mimetype": "text/x-python",
   "name": "python",
   "nbconvert_exporter": "python",
   "pygments_lexer": "ipython3",
   "version": "3.10.13"
  }
 },
 "nbformat": 4,
 "nbformat_minor": 2
}
